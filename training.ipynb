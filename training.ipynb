{
 "cells": [
  {
   "cell_type": "code",
   "execution_count": 1,
   "metadata": {},
   "outputs": [
    {
     "name": "stderr",
     "output_type": "stream",
     "text": [
      "Using TensorFlow backend.\n"
     ]
    }
   ],
   "source": [
    "import train\n",
    "from train import train_and_predict"
   ]
  },
  {
   "cell_type": "code",
   "execution_count": 2,
   "metadata": {
    "collapsed": true
   },
   "outputs": [],
   "source": [
    "import tensorflow as tf \n",
    "sess = tf.Session(config=tf.ConfigProto(log_device_placement=True))"
   ]
  },
  {
   "cell_type": "markdown",
   "metadata": {
    "collapsed": true
   },
   "source": [
    "```\n",
    "name: GeForce GTX 1050\n",
    "major: 6 minor: 1 memoryClockRate (GHz) 1.493\n",
    "pciBusID 0000:01:00.0\n",
    "Total memory: 4.00GiB\n",
    "Free memory: 3.30GiB\n",
    "2017-10-05 15:07:37.748385: I c:\\l\\work\\tensorflow-1.1.0\\tensorflow\\core\\common_runtime\\gpu\\gpu_device.cc:908] DMA: 0\n",
    "2017-10-05 15:07:37.755715: I c:\\l\\work\\tensorflow-1.1.0\\tensorflow\\core\\common_runtime\\gpu\\gpu_device.cc:918] 0:   Y\n",
    "2017-10-05 15:07:37.756836: I c:\\l\\work\\tensorflow-1.1.0\\tensorflow\\core\\common_runtime\\gpu\\gpu_device.cc:977] Creating TensorFlow device (/gpu:0) -> (device: 0, name: GeForce GTX 1050, pci bus id: 0000:01:00.0)\n",
    "Device mapping:\n",
    "/job:localhost/replica:0/task:0/gpu:0 -> device: 0, name: GeForce GTX 1050, pci bus id: 0000:01:00.0\n",
    "2017-10-05 15:07:37.915716: I c:\\l\\work\\tensorflow-1.1.0\\tensorflow\\core\\common_runtime\\direct_session.cc:257] Device mapping:\n",
    "/job:localhost/replica:0/task:0/gpu:0 -> device: 0, name: GeForce GTX 1050, pci bus id: 0000:01:00.0\n",
    "\n",
    "2017-10-05 15:07:38.022586: I c:\\l\\work\\tensorflow-1.1.0\\tensorflow\\core\\common_runtime\\gpu\\gpu_device.cc:977] Creating TensorFlow device (/gpu:0) -> (device: 0, name: GeForce GTX 1050, pci bus id: 0000:01:00.0)\n",
    "```"
   ]
  },
  {
   "cell_type": "code",
   "execution_count": 4,
   "metadata": {},
   "outputs": [
    {
     "name": "stdout",
     "output_type": "stream",
     "text": [
      "------------------------------\n",
      "Loading and preprocessing train data...\n",
      "------------------------------\n",
      "Augmentation Model...\n",
      "Shape of Augmented images: (11270, 96, 96, 1)\n",
      "------------------------------\n",
      "Creating and compiling model...\n",
      "------------------------------\n",
      "------------------------------\n",
      "Fitting model...\n",
      "------------------------------\n",
      "Train on 9016 samples, validate on 2254 samples\n",
      "Epoch 1/20\n",
      "9016/9016 [==============================] - 455s - loss: -0.0647 - dice_coef: 0.0647 - val_loss: -0.0859 - val_dice_coef: 0.0859\n",
      "Epoch 2/20\n",
      "9016/9016 [==============================] - 431s - loss: -0.2945 - dice_coef: 0.2945 - val_loss: -0.1791 - val_dice_coef: 0.1791\n",
      "Epoch 3/20\n",
      "9016/9016 [==============================] - 431s - loss: -0.3689 - dice_coef: 0.3689 - val_loss: -0.1364 - val_dice_coef: 0.1364\n",
      "Epoch 4/20\n",
      "9016/9016 [==============================] - 430s - loss: -0.3980 - dice_coef: 0.3980 - val_loss: -0.1678 - val_dice_coef: 0.1678\n",
      "Epoch 5/20\n",
      "9016/9016 [==============================] - 431s - loss: -0.4153 - dice_coef: 0.4153 - val_loss: -0.2141 - val_dice_coef: 0.2141\n",
      "Epoch 6/20\n",
      "9016/9016 [==============================] - 430s - loss: -0.4290 - dice_coef: 0.4290 - val_loss: -0.1359 - val_dice_coef: 0.1359\n",
      "Epoch 7/20\n",
      "9016/9016 [==============================] - 4507s - loss: -0.4396 - dice_coef: 0.4396 - val_loss: -0.2383 - val_dice_coef: 0.2383\n",
      "Epoch 8/20\n",
      "9016/9016 [==============================] - 392s - loss: -0.4490 - dice_coef: 0.4490 - val_loss: -0.1954 - val_dice_coef: 0.1954\n",
      "Epoch 9/20\n",
      "9016/9016 [==============================] - 391s - loss: -0.4545 - dice_coef: 0.4545 - val_loss: -0.2349 - val_dice_coef: 0.2349\n",
      "Epoch 10/20\n",
      "9016/9016 [==============================] - 392s - loss: -0.4626 - dice_coef: 0.4626 - val_loss: -0.2307 - val_dice_coef: 0.2307\n",
      "Epoch 11/20\n",
      "9016/9016 [==============================] - 393s - loss: -0.4703 - dice_coef: 0.4703 - val_loss: -0.2491 - val_dice_coef: 0.2491\n",
      "Epoch 12/20\n",
      "9016/9016 [==============================] - 392s - loss: -0.4744 - dice_coef: 0.4744 - val_loss: -0.2693 - val_dice_coef: 0.2693\n",
      "Epoch 13/20\n",
      "9016/9016 [==============================] - 392s - loss: -0.4791 - dice_coef: 0.4791 - val_loss: -0.2842 - val_dice_coef: 0.2842\n",
      "Epoch 14/20\n",
      "9016/9016 [==============================] - 389s - loss: -0.4847 - dice_coef: 0.4847 - val_loss: -0.2587 - val_dice_coef: 0.2587\n",
      "Epoch 15/20\n",
      "9016/9016 [==============================] - 389s - loss: -0.4910 - dice_coef: 0.4910 - val_loss: -0.2479 - val_dice_coef: 0.2479\n",
      "Epoch 16/20\n",
      "9016/9016 [==============================] - 391s - loss: -0.4979 - dice_coef: 0.4979 - val_loss: -0.2715 - val_dice_coef: 0.2715\n",
      "Epoch 17/20\n",
      "9016/9016 [==============================] - 393s - loss: -0.5037 - dice_coef: 0.5037 - val_loss: -0.2889 - val_dice_coef: 0.2889\n",
      "Epoch 18/20\n",
      "9016/9016 [==============================] - 389s - loss: -0.5059 - dice_coef: 0.5059 - val_loss: -0.2637 - val_dice_coef: 0.2637\n",
      "Epoch 19/20\n",
      "9016/9016 [==============================] - 389s - loss: -0.5120 - dice_coef: 0.5120 - val_loss: -0.2564 - val_dice_coef: 0.2564\n",
      "Epoch 20/20\n",
      "9016/9016 [==============================] - 389s - loss: -0.5180 - dice_coef: 0.5180 - val_loss: -0.2304 - val_dice_coef: 0.2304\n",
      "------------------------------\n",
      "Loading and preprocessing test data...\n",
      "------------------------------\n",
      "------------------------------\n",
      "Loading saved weights...\n",
      "------------------------------\n",
      "------------------------------\n",
      "Predicting masks on test data...\n",
      "------------------------------\n",
      "5508/5508 [==============================] - 98s    \n"
     ]
    }
   ],
   "source": [
    "train_and_predict()"
   ]
  },
  {
   "cell_type": "code",
   "execution_count": null,
   "metadata": {
    "collapsed": true
   },
   "outputs": [],
   "source": []
  }
 ],
 "metadata": {
  "kernelspec": {
   "display_name": "Python 3",
   "language": "python",
   "name": "python3"
  },
  "language_info": {
   "codemirror_mode": {
    "name": "ipython",
    "version": 3
   },
   "file_extension": ".py",
   "mimetype": "text/x-python",
   "name": "python",
   "nbconvert_exporter": "python",
   "pygments_lexer": "ipython3",
   "version": "3.6.2"
  }
 },
 "nbformat": 4,
 "nbformat_minor": 2
}
